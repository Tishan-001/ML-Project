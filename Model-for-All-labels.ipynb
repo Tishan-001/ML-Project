{
 "cells": [
  {
   "cell_type": "markdown",
   "metadata": {},
   "source": [
    "Import Libraries"
   ]
  },
  {
   "cell_type": "code",
   "execution_count": 1,
   "metadata": {},
   "outputs": [],
   "source": [
    "import numpy as np\n",
    "import pandas as pd\n",
    "from sklearn.model_selection import train_test_split\n",
    "from sklearn.svm import SVC\n",
    "from sklearn.naive_bayes import GaussianNB\n",
    "from sklearn.metrics import accuracy_score,classification_report\n",
    "from sklearn.preprocessing import StandardScaler\n",
    "from sklearn.decomposition import PCA\n",
    "import matplotlib.pyplot as plt"
   ]
  },
  {
   "cell_type": "markdown",
   "metadata": {},
   "source": [
    "Load Dataset"
   ]
  },
  {
   "cell_type": "markdown",
   "metadata": {},
   "source": [
    "Dataset Link = https://www.kaggle.com/code/alpertemel/fer2013-with-keras/input"
   ]
  },
  {
   "cell_type": "code",
   "execution_count": 2,
   "metadata": {},
   "outputs": [],
   "source": [
    "data = pd.read_csv(\"fer2013.csv\")"
   ]
  },
  {
   "cell_type": "markdown",
   "metadata": {},
   "source": [
    "Extract features"
   ]
  },
  {
   "cell_type": "code",
   "execution_count": 3,
   "metadata": {},
   "outputs": [],
   "source": [
    "# Extract features and labels\n",
    "\n",
    "X = data['pixels'].apply(lambda x: np.array([int(pixel) for pixel in x.split()])).values\n",
    "y = data['emotion'].values\n",
    "\n",
    "# Split the dataset into training and testing sets\n",
    "\n",
    "X_train, X_test, y_train, y_test = train_test_split(X, y, test_size=0.2, random_state=42)\n",
    "\n",
    "# Flatten the images for SVM\n",
    "\n",
    "X_train_flat = np.array([image.flatten() for image in X_train])\n",
    "X_test_flat = np.array([image.flatten() for image in X_test])"
   ]
  },
  {
   "cell_type": "markdown",
   "metadata": {},
   "source": [
    "Before the PreProcessing"
   ]
  },
  {
   "cell_type": "markdown",
   "metadata": {},
   "source": [
    "Model Training and Evaluation - SVM"
   ]
  },
  {
   "cell_type": "code",
   "execution_count": 13,
   "metadata": {},
   "outputs": [
    {
     "name": "stdout",
     "output_type": "stream",
     "text": [
      "SVM Accuracy: 0.34536082474226804\n",
      "SVM Classification Report:\n",
      "               precision    recall  f1-score   support\n",
      "\n",
      "           0       0.24      0.24      0.24       985\n",
      "           1       0.25      0.22      0.23       102\n",
      "           2       0.26      0.22      0.24      1043\n",
      "           3       0.44      0.56      0.49      1765\n",
      "           4       0.27      0.26      0.27      1210\n",
      "           5       0.48      0.42      0.45       795\n",
      "           6       0.33      0.27      0.29      1278\n",
      "\n",
      "    accuracy                           0.35      7178\n",
      "   macro avg       0.32      0.31      0.32      7178\n",
      "weighted avg       0.34      0.35      0.34      7178\n",
      "\n"
     ]
    }
   ],
   "source": [
    "# Train\n",
    "\n",
    "svm_model = SVC(kernel='linear', C=1)\n",
    "svm_model.fit(X_train_flat, y_train)\n",
    "\n",
    "# Evaluate SVM\n",
    "svm_predictions = svm_model.predict(X_test_flat)\n",
    "svm_accuracy = accuracy_score(y_test, svm_predictions)\n",
    "print(\"SVM Accuracy:\", svm_accuracy)\n",
    "print(\"SVM Classification Report:\\n\", classification_report(y_test, svm_predictions))"
   ]
  },
  {
   "cell_type": "markdown",
   "metadata": {},
   "source": [
    "Model Training and Evaluation - Naïve Bayes"
   ]
  },
  {
   "cell_type": "code",
   "execution_count": 14,
   "metadata": {},
   "outputs": [
    {
     "name": "stdout",
     "output_type": "stream",
     "text": [
      "Naïve Bayes Accuracy: 0.2148230704931736\n",
      "Naïve Bayes Classification Report:\n",
      "               precision    recall  f1-score   support\n",
      "\n",
      "           0       0.20      0.05      0.08       985\n",
      "           1       0.02      0.17      0.03       102\n",
      "           2       0.21      0.05      0.09      1043\n",
      "           3       0.42      0.14      0.21      1765\n",
      "           4       0.25      0.40      0.31      1210\n",
      "           5       0.20      0.60      0.30       795\n",
      "           6       0.28      0.16      0.21      1278\n",
      "\n",
      "    accuracy                           0.21      7178\n",
      "   macro avg       0.22      0.23      0.17      7178\n",
      "weighted avg       0.27      0.21      0.20      7178\n",
      "\n"
     ]
    }
   ],
   "source": [
    "# Train Naïve Bayes Model\n",
    "\n",
    "nb_model = GaussianNB()\n",
    "nb_model.fit(X_train_flat, y_train)\n",
    "\n",
    "# Evaluate Naïve Bayes\n",
    "\n",
    "nb_predictions = nb_model.predict(X_test_flat)\n",
    "nb_accuracy = accuracy_score(y_test, nb_predictions)\n",
    "print(\"Naïve Bayes Accuracy:\", nb_accuracy)\n",
    "print(\"Naïve Bayes Classification Report:\\n\", classification_report(y_test, nb_predictions))"
   ]
  },
  {
   "cell_type": "markdown",
   "metadata": {},
   "source": [
    "Data Preprocessing "
   ]
  },
  {
   "cell_type": "code",
   "execution_count": 4,
   "metadata": {},
   "outputs": [],
   "source": [
    "# Normalize pixel values to be between 0 and 1\n",
    "\n",
    "X_train_flat = X_train_flat / 255.0\n",
    "X_test_flat = X_test_flat / 255.0\n",
    "\n",
    "# Perform PCA for dimensionality reduction\n",
    "\n",
    "pca = PCA(n_components=50)\n",
    "X_train_pca = pca.fit_transform(X_train_flat)\n",
    "X_test_pca = pca.transform(X_test_flat)\n",
    "\n",
    "# Standardize features\n",
    "\n",
    "scaler = StandardScaler()\n",
    "X_train_pca_std = scaler.fit_transform(X_train_pca)\n",
    "X_test_pca_std = scaler.transform(X_test_pca)"
   ]
  },
  {
   "cell_type": "markdown",
   "metadata": {},
   "source": [
    "After PreProcessing"
   ]
  },
  {
   "cell_type": "markdown",
   "metadata": {},
   "source": [
    "Model Training and Evaluation - SVM"
   ]
  },
  {
   "cell_type": "code",
   "execution_count": 6,
   "metadata": {},
   "outputs": [
    {
     "name": "stdout",
     "output_type": "stream",
     "text": [
      "SVM Accuracy: 0.36528280858177764\n",
      "SVM Classification Report:\n",
      "               precision    recall  f1-score   support\n",
      "\n",
      "           0       0.34      0.08      0.12       985\n",
      "           1       0.00      0.00      0.00       102\n",
      "           2       0.25      0.11      0.15      1043\n",
      "           3       0.40      0.73      0.51      1765\n",
      "           4       0.29      0.32      0.31      1210\n",
      "           5       0.48      0.44      0.45       795\n",
      "           6       0.34      0.32      0.33      1278\n",
      "\n",
      "    accuracy                           0.37      7178\n",
      "   macro avg       0.30      0.28      0.27      7178\n",
      "weighted avg       0.34      0.37      0.33      7178\n",
      "\n"
     ]
    },
    {
     "name": "stderr",
     "output_type": "stream",
     "text": [
      "c:\\Users\\tisha\\anaconda3\\envs\\mlenv\\Lib\\site-packages\\sklearn\\metrics\\_classification.py:1344: UndefinedMetricWarning: Precision and F-score are ill-defined and being set to 0.0 in labels with no predicted samples. Use `zero_division` parameter to control this behavior.\n",
      "  _warn_prf(average, modifier, msg_start, len(result))\n",
      "c:\\Users\\tisha\\anaconda3\\envs\\mlenv\\Lib\\site-packages\\sklearn\\metrics\\_classification.py:1344: UndefinedMetricWarning: Precision and F-score are ill-defined and being set to 0.0 in labels with no predicted samples. Use `zero_division` parameter to control this behavior.\n",
      "  _warn_prf(average, modifier, msg_start, len(result))\n",
      "c:\\Users\\tisha\\anaconda3\\envs\\mlenv\\Lib\\site-packages\\sklearn\\metrics\\_classification.py:1344: UndefinedMetricWarning: Precision and F-score are ill-defined and being set to 0.0 in labels with no predicted samples. Use `zero_division` parameter to control this behavior.\n",
      "  _warn_prf(average, modifier, msg_start, len(result))\n",
      "c:\\Users\\tisha\\anaconda3\\envs\\mlenv\\Lib\\site-packages\\sklearn\\metrics\\_classification.py:1344: UndefinedMetricWarning: Precision and F-score are ill-defined and being set to 0.0 in labels with no predicted samples. Use `zero_division` parameter to control this behavior.\n",
      "  _warn_prf(average, modifier, msg_start, len(result))\n",
      "c:\\Users\\tisha\\anaconda3\\envs\\mlenv\\Lib\\site-packages\\sklearn\\metrics\\_classification.py:1344: UndefinedMetricWarning: Precision and F-score are ill-defined and being set to 0.0 in labels with no predicted samples. Use `zero_division` parameter to control this behavior.\n",
      "  _warn_prf(average, modifier, msg_start, len(result))\n",
      "c:\\Users\\tisha\\anaconda3\\envs\\mlenv\\Lib\\site-packages\\sklearn\\metrics\\_classification.py:1344: UndefinedMetricWarning: Precision and F-score are ill-defined and being set to 0.0 in labels with no predicted samples. Use `zero_division` parameter to control this behavior.\n",
      "  _warn_prf(average, modifier, msg_start, len(result))\n"
     ]
    }
   ],
   "source": [
    "# Train\n",
    "\n",
    "svm_model = SVC(kernel='linear', C=1)\n",
    "svm_model.fit(X_train_pca_std, y_train)\n",
    "\n",
    "# Evaluate SVM\n",
    "\n",
    "svm_predictions = svm_model.predict(X_test_pca_std)\n",
    "svm_accuracy = accuracy_score(y_test, svm_predictions)\n",
    "print(\"SVM Accuracy:\", svm_accuracy)\n",
    "print(\"SVM Classification Report:\\n\", classification_report(y_test, svm_predictions))\n",
    "svm_classification_report = classification_report(y_test, svm_predictions,output_dict=True)"
   ]
  },
  {
   "cell_type": "code",
   "execution_count": 35,
   "metadata": {},
   "outputs": [
    {
     "data": {
      "image/png": "[encoded data removed]",
      "text/plain": [
       "<Figure size 640x480 with 1 Axes>"
      ]
     },
     "metadata": {},
     "output_type": "display_data"
    }
   ],
   "source": [
    "# Extract recall for each label\n",
    "labels = list(svm_classification_report.keys())[:-3]  # Exclude 'accuracy', 'macro avg', 'weighted avg'\n",
    "recall_values = [svm_classification_report[label]['recall'] for label in labels]\n",
    "\n",
    "labels = list(map(int, labels))\n",
    "\n",
    "bar_colors = ['#030637', '#3C0753', '#720455', '#910A67', '#7FC7D9', '#365486', '#0F1035']\n",
    "\n",
    "plt.bar(labels, recall_values, color=bar_colors)\n",
    "plt.xlabel('Emotion Labels')\n",
    "plt.ylabel('Percentage')\n",
    "plt.title('SVM Model Percentage for Each Label')\n",
    "plt.show()"
   ]
  },
  {
   "cell_type": "markdown",
   "metadata": {},
   "source": [
    "Model Training and Evaluation - Naïve Bayes"
   ]
  },
  {
   "cell_type": "code",
   "execution_count": 8,
   "metadata": {},
   "outputs": [
    {
     "name": "stdout",
     "output_type": "stream",
     "text": [
      "Naïve Bayes Accuracy: 0.3392309835608805\n",
      "Naïve Bayes Classification Report:\n",
      "               precision    recall  f1-score   support\n",
      "\n",
      "           0       0.27      0.13      0.18       985\n",
      "           1       0.00      0.00      0.00       102\n",
      "           2       0.23      0.16      0.19      1043\n",
      "           3       0.37      0.66      0.47      1765\n",
      "           4       0.28      0.26      0.27      1210\n",
      "           5       0.49      0.41      0.45       795\n",
      "           6       0.33      0.27      0.29      1278\n",
      "\n",
      "    accuracy                           0.34      7178\n",
      "   macro avg       0.28      0.27      0.26      7178\n",
      "weighted avg       0.32      0.34      0.31      7178\n",
      "\n"
     ]
    }
   ],
   "source": [
    "# Train Naïve Bayes Model\n",
    "\n",
    "nb_model = GaussianNB()\n",
    "nb_model.fit(X_train_pca_std, y_train)\n",
    "\n",
    "# Evaluate Naïve Bayes\n",
    "\n",
    "nb_predictions = nb_model.predict(X_test_pca_std)\n",
    "nb_accuracy = accuracy_score(y_test, nb_predictions)\n",
    "print(\"Naïve Bayes Accuracy:\", nb_accuracy)\n",
    "print(\"Naïve Bayes Classification Report:\\n\", classification_report(y_test, nb_predictions))\n",
    "nb_classification_report = classification_report(y_test, nb_predictions, output_dict=True)"
   ]
  },
  {
   "cell_type": "code",
   "execution_count": 34,
   "metadata": {},
   "outputs": [
    {
     "data": {
      "image/png": "[encoded data removed]",
      "text/plain": [
       "<Figure size 640x480 with 1 Axes>"
      ]
     },
     "metadata": {},
     "output_type": "display_data"
    }
   ],
   "source": [
    "# Extract recall for each label\n",
    "labels = list(nb_classification_report.keys())[:-3]  # Exclude 'accuracy', 'macro avg', 'weighted avg'\n",
    "recall_values = [nb_classification_report[label]['recall'] for label in labels]\n",
    "\n",
    "labels = list(map(int, labels))\n",
    "\n",
    "bar_colors = ['#756AB6', '#AC87C5', '#E0AED0', '#FFE5E5', '#2D3250', '#F6B17A', '#7077A1']\n",
    "\n",
    "plt.bar(labels, recall_values, color=bar_colors)\n",
    "plt.xlabel('Emotion Labels')\n",
    "plt.ylabel('Percentage')\n",
    "plt.title('Naïve Bayes Model Percentage for Each Label')\n",
    "plt.show()"
   ]
  }
 ],
 "metadata": {
  "kernelspec": {
   "display_name": "mlenv",
   "language": "python",
   "name": "python3"
  },
  "language_info": {
   "codemirror_mode": {
    "name": "ipython",
    "version": 3
   },
   "file_extension": ".py",
   "mimetype": "text/x-python",
   "name": "python",
   "nbconvert_exporter": "python",
   "pygments_lexer": "ipython3",
   "version": "3.11.5"
  }
 },
 "nbformat": 4,
 "nbformat_minor": 2
}
